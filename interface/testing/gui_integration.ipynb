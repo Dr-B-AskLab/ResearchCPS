{
 "cells": [
  {
   "cell_type": "code",
   "execution_count": 1,
   "metadata": {},
   "outputs": [],
   "source": [
    "import tkinter as tk\n",
    "import tkinter.font as tkFont\n",
    "from tkinter import *\n",
    "\n",
    "from owlready2 import *\n"
   ]
  },
  {
   "cell_type": "code",
   "execution_count": 2,
   "metadata": {},
   "outputs": [],
   "source": [
    "root = tk.Tk()\n",
    "\n",
    "fontStyle = tkFont.Font(family=\"Lucida Grande\", size=10)\n",
    "\n",
    "def add_concern():\n",
    "    \n",
    "    new_concern = concern_name_entry.get()\n",
    "    owlfile_in = input_owl_entry.get()\n",
    "    owlfile_out = output_owl_entry.get()\n",
    "    \n",
    "    owlpath = \"./\"\n",
    "    \n",
    "    onto = get_ontology(\"file://\" + owlpath + owlfile_in).load()\n",
    "\n",
    "   \n",
    "\n",
    "    test_concern = onto.Concern(new_concern,ontology = onto)\n",
    "    \n",
    "    \n",
    "    onto.save(file = owlfile_out, format = \"rdfxml\")\n",
    "  \n",
    "    \n",
    "\n",
    "    summary = \"Added concern \" + new_concern + \" to \" + owlfile_in + \" saved as \" + owlfile_out\n",
    "    \n",
    "    summaryLabel = Label(frame, text = summary, font = fontStyle)\n",
    "    summaryLabel.pack()\n",
    "    \n",
    "\n",
    "canvas = tk.Canvas(root, height = 700, width = 700, bg = \"#18453b\")\n",
    "\n",
    "canvas.pack()\n",
    "\n",
    "\n",
    "frame = tk.Frame(root, bg=\"white\")\n",
    "frame.place(relwidth = .6, relheight = .6, relx = .2, rely = .2)\n",
    "\n",
    "\n",
    "input_owl_entry = Entry(frame, width = 30)\n",
    "input_owl_entry.pack()\n",
    "input_owl_entry.insert(0,\"ontology filename - cpsframework-v3-base.owl\")\n",
    "\n",
    "concern_name_entry = Entry(frame, width = 30)\n",
    "concern_name_entry.pack()\n",
    "concern_name_entry.insert(1,\"concern name - testConcern\")\n",
    "\n",
    "output_owl_entry = Entry(frame, width = 30)\n",
    "output_owl_entry.pack()\n",
    "output_owl_entry.insert(2, \"output filename - newConcern.owl\")\n",
    "\n",
    "\n",
    "\n",
    "\n",
    "addConcern = tk.Button(frame, text = \"Add Concern\",padx = 10, pady = 5, fg = \"black\",command = add_concern)\n",
    "\n",
    "addConcern.pack()\n",
    "\n",
    "root.mainloop()\n",
    "\n"
   ]
  },
  {
   "cell_type": "code",
   "execution_count": null,
   "metadata": {},
   "outputs": [],
   "source": []
  }
 ],
 "metadata": {
  "kernelspec": {
   "display_name": "Python 3",
   "language": "python",
   "name": "python3"
  },
  "language_info": {
   "codemirror_mode": {
    "name": "ipython",
    "version": 3
   },
   "file_extension": ".py",
   "mimetype": "text/x-python",
   "name": "python",
   "nbconvert_exporter": "python",
   "pygments_lexer": "ipython3",
   "version": "3.6.8"
  }
 },
 "nbformat": 4,
 "nbformat_minor": 2
}
